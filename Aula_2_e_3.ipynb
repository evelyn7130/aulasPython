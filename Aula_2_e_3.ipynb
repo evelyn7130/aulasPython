{
  "cells": [
    {
      "cell_type": "markdown",
      "metadata": {
        "id": "view-in-github",
        "colab_type": "text"
      },
      "source": [
        "<a href=\"https://colab.research.google.com/github/evelyn7130/aulasPython/blob/develop/Aula_2_e_3.ipynb\" target=\"_parent\"><img src=\"https://colab.research.google.com/assets/colab-badge.svg\" alt=\"Open In Colab\"/></a>"
      ]
    },
    {
      "cell_type": "code",
      "source": [
        "a = 1%4\n",
        "b = 4%4\n",
        "c = 5%4\n",
        "print(a , b , c)"
      ],
      "metadata": {
        "colab": {
          "base_uri": "https://localhost:8080/"
        },
        "id": "UFD3YXam_-bT",
        "outputId": "a7215404-df45-4919-9aad-adb6a0047c3d"
      },
      "execution_count": null,
      "outputs": [
        {
          "output_type": "stream",
          "name": "stdout",
          "text": [
            "1 0 1\n"
          ]
        }
      ]
    },
    {
      "cell_type": "markdown",
      "source": [
        "calculadora 1"
      ],
      "metadata": {
        "id": "7TqFxVO2FzrW"
      }
    },
    {
      "cell_type": "code",
      "source": [
        "operacao = str(input(\"escolha a operação que deseja realizar (+ , - , * , / ):\"))\n",
        "if operacao not in ('+ , - , * , /'):\n",
        "  print(\"erro tente uma nova operação\")\n",
        "else:\n",
        "  primeiro_numero = float(input(\"digite o primeiro número:\"))\n",
        "  segundo_numero = float(input(\"digite o segundo número:\"))\n",
        "if operacao == '+' :\n",
        "  conta = primeiro_numero + segundo_numero\n",
        "  print(f\"resultado: {conta:.2f}\")\n",
        "elif operacao == '-' :\n",
        "  conta = primeiro_numero - segundo_numero\n",
        "  print(f\"resultado: {conta:.2f}\")\n",
        "elif operacao == '*' :\n",
        "  conta = primeiro_numero * segundo_numero\n",
        "  print(f\"resultado: {conta:.2f}\")\n",
        "elif operacao == '/' :\n",
        "  conta = primeiro_numero / segundo_numero\n",
        "  print(f\"resultado: {conta:.2f}\")"
      ],
      "metadata": {
        "colab": {
          "base_uri": "https://localhost:8080/"
        },
        "id": "6nFJjjQiJM_x",
        "outputId": "075c9d5e-a677-415a-873b-c22646b6bd8f"
      },
      "execution_count": null,
      "outputs": [
        {
          "output_type": "stream",
          "name": "stdout",
          "text": [
            "escolha a operação que deseja realizar (+ , - , * , / ):+\n",
            "digite o primeiro número:5\n",
            "digite o segundo número:5\n",
            "resultado: 10.00\n"
          ]
        }
      ]
    },
    {
      "cell_type": "markdown",
      "source": [
        "Sistema bancário"
      ],
      "metadata": {
        "id": "rBOHFZEJZHBJ"
      }
    },
    {
      "cell_type": "code",
      "source": [
        "print(\"==== BANCO PHYTON ====\")\n",
        "print(\"[1] = Depósito\")\n",
        "print(\"[2] = Saque\")\n",
        "print(\"[3] = Extrato\")\n",
        "print(\"[4] = Sair\")\n",
        "\n",
        "operacao = input(\"Escolha uma opção:\")\n",
        "deposito = 0\n",
        "saque = 0\n",
        "saldo = 0\n",
        "\n",
        "if operacao == '1':\n",
        " deposito = float(input(\"Informe o valor do depósito: R$ \"))\n",
        " print(\"Depósito de\" , deposito , \"foi realizado com sucesso!\")\n",
        "\n",
        "elif operacao == '2':\n",
        " saque = float(input(\"Informe o valor do seu saque: R$ \"))\n",
        " print(\"Saque de\" , saque , \"foi realizado com sucesso!\")\n",
        "\n",
        "elif operacao == '3':\n",
        "  print(\"Extrato:\")\n",
        "  print(\"Depósito: R$ \" , deposito)\n",
        "  print(\"Saque: R$ \" , saque)\n",
        "  print(\"Saldo atual: R$ \" , deposito + saque)\n",
        "\n",
        "else:\n",
        "  print(\"Consulta finalizada.\")"
      ],
      "metadata": {
        "colab": {
          "base_uri": "https://localhost:8080/"
        },
        "id": "qDwPtNMAZGyr",
        "outputId": "b507aee0-e3da-429d-cd5f-9c2e6fd3b344"
      },
      "execution_count": 15,
      "outputs": [
        {
          "output_type": "stream",
          "name": "stdout",
          "text": [
            "==== BANCO PHYTON ====\n",
            "[1] = Depósito\n",
            "[2] = Saque\n",
            "[3] = Extrato\n",
            "[4] = Sair\n",
            "Escolha uma opção:3\n",
            "Extrato:\n",
            "Depósito: R$  0\n",
            "Saque: R$  0\n",
            "Saldo atual: R$  0\n"
          ]
        }
      ]
    },
    {
      "cell_type": "markdown",
      "source": [
        "Caixa Eletrônico"
      ],
      "metadata": {
        "id": "ukk1Pvq0LHXP"
      }
    },
    {
      "cell_type": "code",
      "source": [
        "print(\"MENU:\")\n",
        "print(\"[1] = Depositar\")\n",
        "print(\"[2] = Sacar\")\n",
        "print(\"[3] = Sair\")\n",
        "\n",
        "saldo = 1000\n",
        "operacao = input(\"Escolha uma opção:\")\n",
        "\n",
        "if operacao == '1':\n",
        " deposito = float(input(\"Digite o valor que deseja depositar:\"))\n",
        " print(\"Depósito realizado! Novo saldo: R$\" , deposito + saldo)\n",
        "\n",
        "elif operacao == '2':\n",
        " saque = float(input(\"Digite o valor que deseja sacar:\"))\n",
        " print(\"Saque realizado com sucesso! Novo saldo: R$\" , saldo - saque)\n",
        "\n",
        "else:\n",
        "  print(\"Obrigado por usar nosso caixa eletrônico\")"
      ],
      "metadata": {
        "id": "MFiZGpEqAbMa",
        "colab": {
          "base_uri": "https://localhost:8080/"
        },
        "outputId": "49e96932-7b86-4ac4-dcc6-44c7203c71c0"
      },
      "execution_count": 16,
      "outputs": [
        {
          "output_type": "stream",
          "name": "stdout",
          "text": [
            "MENU:\n",
            "[1] = Depositar\n",
            "[2] = Sacar\n",
            "[3] = Sair\n",
            "Escolha uma opção:2\n",
            "Digite o valor que deseja sacar:35\n",
            "Saque realizado com sucesso! Novo saldo: R$  965.0\n"
          ]
        }
      ]
    },
    {
      "cell_type": "code",
      "source": [],
      "metadata": {
        "id": "nHgovEXtGKr4"
      },
      "execution_count": null,
      "outputs": []
    }
  ],
  "metadata": {
    "colab": {
      "provenance": [],
      "include_colab_link": true
    },
    "kernelspec": {
      "display_name": "Python 3",
      "name": "python3"
    }
  },
  "nbformat": 4,
  "nbformat_minor": 0
}